{
 "cells": [
  {
   "cell_type": "markdown",
   "source": [
    "# Monk2\n",
    "Grid Search for Monk2 dataset model selection\n"
   ],
   "metadata": {
    "collapsed": false
   },
   "id": "76221a5d468b33a8"
  },
  {
   "cell_type": "code",
   "execution_count": null,
   "outputs": [],
   "source": [
    "from exclusiveAI.ConfiguratorGen import ConfiguratorGen\n",
    "from exclusiveAI.datasets.monk import read_monk2\n",
    "from exclusiveAI.components.Validation import *\n",
    "from exclusiveAI.utils import one_hot_encoding\n",
    "from exclusiveAI.components.CallBacks import *\n",
    "from exclusiveAI.Composer import Composer\n",
    "import pandas as pd\n",
    "import numpy as np"
   ],
   "metadata": {
    "collapsed": false
   },
   "id": "d8f565beeebe055d"
  },
  {
   "cell_type": "markdown",
   "source": [
    "#### Read Monk2 dataset "
   ],
   "metadata": {
    "collapsed": false
   },
   "id": "41c193fe85cb2214"
  },
  {
   "cell_type": "code",
   "execution_count": null,
   "outputs": [],
   "source": [
    "training_data, training_labels, test_data, test_labels = read_monk2()"
   ],
   "metadata": {
    "collapsed": false
   },
   "id": "c2efbf06487c3d0f"
  },
  {
   "cell_type": "markdown",
   "source": [
    "One-Hot Encoding Training Dataset"
   ],
   "metadata": {
    "collapsed": false
   },
   "id": "6c2a7c15dc5f0bf3"
  },
  {
   "cell_type": "code",
   "execution_count": null,
   "outputs": [],
   "source": [
    "training_data = one_hot_encoding(training_data)"
   ],
   "metadata": {
    "collapsed": false
   },
   "id": "b54f54f940a1597f"
  },
  {
   "cell_type": "markdown",
   "source": [
    "One-Hot Encoding Test Dataset"
   ],
   "metadata": {
    "collapsed": false
   },
   "id": "2fe910ec3314ef77"
  },
  {
   "cell_type": "code",
   "execution_count": null,
   "outputs": [],
   "source": [
    "test_data = one_hot_encoding(test_data)"
   ],
   "metadata": {
    "collapsed": false
   },
   "id": "7d7ff08be1ee7aa5"
  },
  {
   "cell_type": "markdown",
   "source": [
    "Early Stopping Callback with 50 epochs patience limit"
   ],
   "metadata": {
    "collapsed": false
   },
   "id": "a34abcc463d25a2e"
  },
  {
   "cell_type": "code",
   "execution_count": null,
   "outputs": [],
   "source": [
    "patience_limit = 50\n",
    "early_stopping = EarlyStoppingCallback(patience_limit=patience_limit)"
   ],
   "metadata": {
    "collapsed": false
   },
   "id": "60346e93f3af4818"
  },
  {
   "cell_type": "markdown",
   "source": [
    "Configuration Generator Grid Search for better hyperparameters selection"
   ],
   "metadata": {
    "collapsed": false
   },
   "id": "35fe3b0cb99b46a"
  },
  {
   "cell_type": "code",
   "execution_count": null,
   "outputs": [],
   "source": [
    "regularizations = np.arange(0, 0.5, 0.01)\n",
    "learning_rates = np.arange(0.01, 0.4, 0.01)\n",
    "number_of_units = range(1, 10, 1)\n",
    "number_of_layers = range(1, 3, 1) \n",
    "initializers = [\"uniform\", \"gaussian\"]\n",
    "momentums = np.arange(0, 0.999, 0.001)\n",
    "activations = [\"sigmoid\"]\n",
    "\n",
    "myConfigurator = ConfiguratorGen(random=False, regularizations=regularizations, learning_rates=learning_rates,\n",
    "                                 loss_functions=['mse'], optimizer=['sgd'],\n",
    "                                 activation_functions=activations,\n",
    "                                 number_of_units=number_of_units, number_of_layers=number_of_layers,\n",
    "                                 momentums=momentums, initializers=initializers, input_shapes=training_data.shape, verbose=False,\n",
    "                                 callbacks=[early_stopping], output_activation='sigmoid'\n",
    "                                 )"
   ],
   "metadata": {
    "collapsed": false
   },
   "id": "a9aef1ab1b752912"
  },
  {
   "cell_type": "markdown",
   "source": [
    "HoldOut validation with our configurations"
   ],
   "metadata": {
    "collapsed": false
   },
   "id": "f5e85155e7b8a7e6"
  },
  {
   "cell_type": "code",
   "execution_count": null,
   "outputs": [],
   "source": [
    "myValidation = HoldOut(models=myConfigurator, input=training_data, target=training_labels, debug=True)\n",
    "configs = myValidation.hold_out(all_models=True)"
   ],
   "metadata": {
    "collapsed": false
   },
   "id": "3e55953fb605152c"
  },
  {
   "cell_type": "code",
   "execution_count": null,
   "outputs": [],
   "source": [
    "configs = pd.DataFrame(configs)\n",
    "# Save as json\n",
    "configs.to_json('monk2_configurations.json')"
   ],
   "metadata": {
    "collapsed": false
   },
   "id": "bfc6ad0e288d996a"
  }
 ],
 "metadata": {
  "kernelspec": {
   "display_name": "Python 3",
   "language": "python",
   "name": "python3"
  },
  "language_info": {
   "codemirror_mode": {
    "name": "ipython",
    "version": 2
   },
   "file_extension": ".py",
   "mimetype": "text/x-python",
   "name": "python",
   "nbconvert_exporter": "python",
   "pygments_lexer": "ipython2",
   "version": "2.7.6"
  }
 },
 "nbformat": 4,
 "nbformat_minor": 5
}
