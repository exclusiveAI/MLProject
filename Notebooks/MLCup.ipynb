{
 "cells": [
  {
   "cell_type": "markdown",
   "id": "76221a5d468b33a8",
   "metadata": {
    "collapsed": false
   },
   "source": [
    "# Monk1 \n",
    "Grid Search for Monk1 dataset model selection\n"
   ]
  },
  {
   "cell_type": "code",
   "execution_count": 1,
   "id": "d8f565beeebe055d",
   "metadata": {
    "collapsed": false,
    "ExecuteTime": {
     "end_time": "2024-01-05T17:54:09.925240Z",
     "start_time": "2024-01-05T17:54:09.193706Z"
    }
   },
   "outputs": [],
   "source": [
    "from exclusiveAI.components.Validation.HoldOut import parallel_hold_out\n",
    "from exclusiveAI.ConfiguratorGen import ConfiguratorGen\n",
    "from exclusiveAI.Composer import Composer\n",
    "from tqdm import tqdm\n",
    "import pandas as pd\n",
    "import numpy as np\n",
    "from exclusiveAI.utils import plot_history\n",
    "import os, json"
   ]
  },
  {
   "cell_type": "markdown",
   "source": [
    "#### Read Monk1 dataset "
   ],
   "metadata": {
    "collapsed": false
   },
   "id": "41c193fe85cb2214"
  },
  {
   "cell_type": "code",
   "execution_count": 2,
   "outputs": [],
   "source": [
    "file_path = \"MLCup/Data/training_data_split.json\"\n",
    "# Load training and test data from the JSON file\n",
    "with open(file_path, 'r') as jsonfile:\n",
    "    data_dict = json.load(jsonfile)\n",
    "\n",
    "training_data = np.array(data_dict['training_data'])\n",
    "training_labels = np.array(data_dict['training_labels'])\n",
    "test_data = np.array(data_dict['test_data'])\n",
    "test_labels = np.array(data_dict['test_labels'])\n",
    "train_idx = np.array(data_dict['train_idx'])\n",
    "test_idx = np.array(data_dict['test_idx'])"
   ],
   "metadata": {
    "collapsed": false,
    "ExecuteTime": {
     "end_time": "2024-01-05T17:54:09.932810Z",
     "start_time": "2024-01-05T17:54:09.926885Z"
    }
   },
   "id": "c2efbf06487c3d0f"
  },
  {
   "cell_type": "code",
   "execution_count": 3,
   "outputs": [],
   "source": [
    "def read_json_files(my_dir_path):\n",
    "        data = pd.DataFrame()\n",
    "        for file in os.listdir(my_dir_path):\n",
    "            if file.endswith('.json'):\n",
    "                with open(os.path.join(my_dir_path, file), 'r') as f:\n",
    "                    my_data = []\n",
    "                    json_file = json.load(f)\n",
    "                    for elem in json_file.values():\n",
    "                        for row in elem.values():\n",
    "                            my_data.append(row)\n",
    "                    data = pd.concat([data,  pd.DataFrame(my_data)], ignore_index=True, axis=0)\n",
    "        return data\n",
    "batch_size = 200\n",
    "epochs = 500\n",
    "\n",
    "if not os.path.exists('MLCup_models_configs.json'):\n",
    "    dir_path = \"MLCup/\"\n",
    "    \n",
    "    all_json_data = read_json_files(dir_path)\n",
    "    regularizations = all_json_data['regularization'].unique().tolist()\n",
    "    learning_rates = all_json_data['learning_rate'].unique().tolist()\n",
    "    momentums = all_json_data['momentum'].unique().tolist()\n",
    "    num_of_layers = all_json_data['num_layers'].unique().tolist()\n",
    "    num_of_units = set([unit1 for unit in all_json_data['num_of_units'] for unit1 in unit])\n",
    "    initializers = all_json_data['initializers'].unique().tolist()\n",
    "    activations = [\"sigmoid\", 'tanh']\n",
    "    \n",
    "    myConfigurator = ConfiguratorGen(random=False, learning_rates=learning_rates, regularizations=regularizations,\n",
    "                                     loss_function=['mse'], optimizer=['sgd'],\n",
    "                                     activation_functions=activations,\n",
    "                                     number_of_units=num_of_units, number_of_layers=num_of_layers,\n",
    "                                     momentums=momentums, initializers=initializers,\n",
    "                                     input_shapes=training_data.shape,\n",
    "                                     verbose=False, nesterov=True, outputs=3,\n",
    "                                     callbacks=[\"earlystopping\"], output_activation='linear', show_line=False,\n",
    "                                     ).get_configs()\n",
    "    print(len(myConfigurator))\n",
    "    \n",
    "    configs=[]\n",
    "    if __name__ == '__main__':\n",
    "        configs.append(\n",
    "            parallel_hold_out(myConfigurator, training=training_data, training_target=training_labels, epochs=epochs,\n",
    "                              batch_size=batch_size, num_models=10, workers=8, number_of_initializations=3, regression=True,\n",
    "                              ))\n",
    "\n",
    "        configs = pd.DataFrame(configs)\n",
    "        # Save as json\n",
    "        configs.to_json('MLCup_models_configs.json')\n",
    "else: \n",
    "    with open('MLCup_models_configs.json', 'r') as f:\n",
    "        configs = [data['0'] for data in json.load(f).values()]"
   ],
   "metadata": {
    "collapsed": false,
    "ExecuteTime": {
     "end_time": "2024-01-05T17:54:09.976629Z",
     "start_time": "2024-01-05T17:54:09.971311Z"
    }
   },
   "id": "7ff0e2c52c8aea4d"
  },
  {
   "cell_type": "markdown",
   "source": [],
   "metadata": {
    "collapsed": false
   },
   "id": "cd391f8189a230bc"
  },
  {
   "cell_type": "code",
   "execution_count": 4,
   "outputs": [
    {
     "name": "stderr",
     "output_type": "stream",
     "text": [
      "  0%|          | 0/1 [00:00<?, ?it/s]\u001B[34m\u001B[1mwandb\u001B[0m: Currently logged in as: \u001B[33mp-magos\u001B[0m (\u001B[33mexclusiveai\u001B[0m). Use \u001B[1m`wandb login --relogin`\u001B[0m to force relogin\n"
     ]
    },
    {
     "data": {
      "text/plain": "<IPython.core.display.HTML object>",
      "text/html": "Tracking run with wandb version 0.16.1"
     },
     "metadata": {},
     "output_type": "display_data"
    },
    {
     "data": {
      "text/plain": "<IPython.core.display.HTML object>",
      "text/html": "Run data is saved locally in <code>/Users/paulmagos/Documents/Projects/MLProject/Notebooks/wandb/run-20240105_185411-agckytmi</code>"
     },
     "metadata": {},
     "output_type": "display_data"
    },
    {
     "data": {
      "text/plain": "<IPython.core.display.HTML object>",
      "text/html": "Syncing run <strong><a href='https://wandb.ai/exclusiveai/exclusiveAI/runs/agckytmi' target=\"_blank\">Model233614</a></strong> to <a href='https://wandb.ai/exclusiveai/exclusiveAI' target=\"_blank\">Weights & Biases</a> (<a href='https://wandb.me/run' target=\"_blank\">docs</a>)<br/>"
     },
     "metadata": {},
     "output_type": "display_data"
    },
    {
     "data": {
      "text/plain": "<IPython.core.display.HTML object>",
      "text/html": " View project at <a href='https://wandb.ai/exclusiveai/exclusiveAI' target=\"_blank\">https://wandb.ai/exclusiveai/exclusiveAI</a>"
     },
     "metadata": {},
     "output_type": "display_data"
    },
    {
     "data": {
      "text/plain": "<IPython.core.display.HTML object>",
      "text/html": " View run at <a href='https://wandb.ai/exclusiveai/exclusiveAI/runs/agckytmi' target=\"_blank\">https://wandb.ai/exclusiveai/exclusiveAI/runs/agckytmi</a>"
     },
     "metadata": {},
     "output_type": "display_data"
    },
    {
     "data": {
      "text/plain": "VBox(children=(Label(value='0.001 MB of 0.001 MB uploaded\\r'), FloatProgress(value=1.0, max=1.0)))",
      "application/vnd.jupyter.widget-view+json": {
       "version_major": 2,
       "version_minor": 0,
       "model_id": "33fa8f03696e49a48113b52527ef93d5"
      }
     },
     "metadata": {},
     "output_type": "display_data"
    },
    {
     "data": {
      "text/plain": "<IPython.core.display.HTML object>",
      "text/html": "<style>\n    table.wandb td:nth-child(1) { padding: 0 10px; text-align: left ; width: auto;} td:nth-child(2) {text-align: left ; width: 100%}\n    .wandb-row { display: flex; flex-direction: row; flex-wrap: wrap; justify-content: flex-start; width: 100% }\n    .wandb-col { display: flex; flex-direction: column; flex-basis: 100%; flex: 1; padding: 10px; }\n    </style>\n<div class=\"wandb-row\"><div class=\"wandb-col\"><h3>Run history:</h3><br/><table class=\"wandb\"><tr><td>train/mae</td><td>█▃▂▂▂▂▂▁▁▁▁▁▁▁▁▁▁▁▁▁▁▁▁▁▁▁▁▁▁▁▂▁▁▁▁▁▁▁▁▁</td></tr><tr><td>train/mee</td><td>█▃▂▂▂▂▂▁▁▁▁▁▁▁▁▁▁▁▁▁▁▁▁▁▁▁▁▁▁▁▁▁▁▁▁▁▁▁▁▁</td></tr><tr><td>train/mse</td><td>█▂▁▁▁▁▁▁▁▁▁▁▁▁▁▁▁▁▁▁▁▁▁▁▁▁▁▁▁▁▁▁▁▁▁▁▁▁▁▁</td></tr><tr><td>train/step</td><td>▁▁▁▁▂▂▂▂▂▃▃▃▃▃▃▄▄▄▄▄▅▅▅▅▅▅▆▆▆▆▆▇▇▇▇▇▇███</td></tr><tr><td>val/mae</td><td>█▃▂▂▂▂▂▁▁▁▁▁▁▁▁▁▁▁▁▁▁▁▁▁▁▁▂▁▁▁▁▁▁▁▁▁▁▁▁▁</td></tr><tr><td>val/mee</td><td>█▃▂▂▂▂▁▁▁▁▁▁▁▁▁▁▁▁▁▁▁▁▁▁▁▁▁▁▁▁▁▁▁▁▁▁▁▁▁▁</td></tr><tr><td>val/mse</td><td>█▂▁▁▁▁▁▁▁▁▁▁▁▁▁▁▁▁▁▁▁▁▁▁▁▁▁▁▁▁▁▁▁▁▁▁▁▁▁▁</td></tr></table><br/></div><div class=\"wandb-col\"><h3>Run summary:</h3><br/><table class=\"wandb\"><tr><td>train/mae</td><td>3.07933</td></tr><tr><td>train/mee</td><td>6.11987</td></tr><tr><td>train/mse</td><td>43.51764</td></tr><tr><td>train/step</td><td>102</td></tr><tr><td>val/mae</td><td>3.38622</td></tr><tr><td>val/mee</td><td>6.71422</td></tr><tr><td>val/mse</td><td>52.67233</td></tr></table><br/></div></div>"
     },
     "metadata": {},
     "output_type": "display_data"
    },
    {
     "data": {
      "text/plain": "<IPython.core.display.HTML object>",
      "text/html": " View run <strong style=\"color:#cdcd00\">Model233614</strong> at: <a href='https://wandb.ai/exclusiveai/exclusiveAI/runs/agckytmi' target=\"_blank\">https://wandb.ai/exclusiveai/exclusiveAI/runs/agckytmi</a><br/> View job at <a href='https://wandb.ai/exclusiveai/exclusiveAI/jobs/QXJ0aWZhY3RDb2xsZWN0aW9uOjEyNzc0OTUyMA==/version_details/v3' target=\"_blank\">https://wandb.ai/exclusiveai/exclusiveAI/jobs/QXJ0aWZhY3RDb2xsZWN0aW9uOjEyNzc0OTUyMA==/version_details/v3</a><br/>Synced 4 W&B file(s), 0 media file(s), 0 artifact file(s) and 0 other file(s)"
     },
     "metadata": {},
     "output_type": "display_data"
    },
    {
     "data": {
      "text/plain": "<IPython.core.display.HTML object>",
      "text/html": "Find logs at: <code>./wandb/run-20240105_185411-agckytmi/logs</code>"
     },
     "metadata": {},
     "output_type": "display_data"
    },
    {
     "data": {
      "text/plain": "VBox(children=(Label(value='Waiting for wandb.init()...\\r'), FloatProgress(value=0.01116072361118212, max=1.0)…",
      "application/vnd.jupyter.widget-view+json": {
       "version_major": 2,
       "version_minor": 0,
       "model_id": "d9e0fd3bf08242d3929e44694ec766a4"
      }
     },
     "metadata": {},
     "output_type": "display_data"
    },
    {
     "data": {
      "text/plain": "<IPython.core.display.HTML object>",
      "text/html": "Tracking run with wandb version 0.16.1"
     },
     "metadata": {},
     "output_type": "display_data"
    },
    {
     "data": {
      "text/plain": "<IPython.core.display.HTML object>",
      "text/html": "Run data is saved locally in <code>/Users/paulmagos/Documents/Projects/MLProject/Notebooks/wandb/run-20240105_185417-arnus2fw</code>"
     },
     "metadata": {},
     "output_type": "display_data"
    },
    {
     "data": {
      "text/plain": "<IPython.core.display.HTML object>",
      "text/html": "Syncing run <strong><a href='https://wandb.ai/exclusiveai/exclusiveAI/runs/arnus2fw' target=\"_blank\">Model233614</a></strong> to <a href='https://wandb.ai/exclusiveai/exclusiveAI' target=\"_blank\">Weights & Biases</a> (<a href='https://wandb.me/run' target=\"_blank\">docs</a>)<br/>"
     },
     "metadata": {},
     "output_type": "display_data"
    },
    {
     "data": {
      "text/plain": "<IPython.core.display.HTML object>",
      "text/html": " View project at <a href='https://wandb.ai/exclusiveai/exclusiveAI' target=\"_blank\">https://wandb.ai/exclusiveai/exclusiveAI</a>"
     },
     "metadata": {},
     "output_type": "display_data"
    },
    {
     "data": {
      "text/plain": "<IPython.core.display.HTML object>",
      "text/html": " View run at <a href='https://wandb.ai/exclusiveai/exclusiveAI/runs/arnus2fw' target=\"_blank\">https://wandb.ai/exclusiveai/exclusiveAI/runs/arnus2fw</a>"
     },
     "metadata": {},
     "output_type": "display_data"
    },
    {
     "name": "stderr",
     "output_type": "stream",
     "text": [
      "100%|██████████| 1/1 [00:08<00:00,  8.82s/it]\n"
     ]
    }
   ],
   "source": [
    "models = []\n",
    "configs=[configs[1]]\n",
    "with tqdm(total=len(configs)) as pbar:\n",
    "    for config in configs:\n",
    "        config['callbacks'].append('wandb')\n",
    "        model = Composer(config=config).compose(regression=True)\n",
    "        model.train(inputs=training_data, input_label=training_labels, val=test_data, val_labels=test_labels, epochs=epochs, batch_size=batch_size, name=config['model_name'], disable_line=True)\n",
    "        test_val = model.evaluate(input=test_data, input_label=test_labels, metrics=['mse', 'mee'])\n",
    "        models.append((model.get_last()['mse'], np.std(np.array(model.history['mse'])), model.get_last()['mee'], test_val[0], test_val[1], model.curr_epoch, model.history['mee'], Composer(config=config).compose(), config, config['num_layers'], config['num_of_units'], config['model_name']))\n",
    "        pbar.update(1)\n",
    "\n",
    "# Convert the list of tuples to a DataFrame with one column for each element in the tuple\n",
    "df = pd.DataFrame(models, columns=['Score', 'History_Std', 'Mee', 'Test_Score', 'Test_Mee', 'Trained_Epochs', 'History', 'Model', 'Config', 'Num_Layers', 'Num_of_Units', 'Name'])"
   ],
   "metadata": {
    "collapsed": false,
    "ExecuteTime": {
     "end_time": "2024-01-05T17:54:18.816060Z",
     "start_time": "2024-01-05T17:54:09.976745Z"
    }
   },
   "id": "3807cf4472c0504c"
  },
  {
   "cell_type": "code",
   "execution_count": 5,
   "outputs": [
    {
     "data": {
      "text/plain": "       Score  History_Std       Mee  Test_Score  Test_Mee  Trained_Epochs  \\\n0  43.517644   240.856372  6.119869   52.672333  6.714223             102   \n\n                                             History  \\\n0  [42.7237410058453, 29.861483755259822, 15.0815...   \n\n                                               Model  \\\n0  <exclusiveAI.components.NeuralNetwork.NeuralNe...   \n\n                                              Config  Num_Layers Num_of_Units  \\\n0  {'regularization': 1e-08, 'learning_rate': 0.2...           1         [15]   \n\n          Name  \n0  Model233614  ",
      "text/html": "<div>\n<style scoped>\n    .dataframe tbody tr th:only-of-type {\n        vertical-align: middle;\n    }\n\n    .dataframe tbody tr th {\n        vertical-align: top;\n    }\n\n    .dataframe thead th {\n        text-align: right;\n    }\n</style>\n<table border=\"1\" class=\"dataframe\">\n  <thead>\n    <tr style=\"text-align: right;\">\n      <th></th>\n      <th>Score</th>\n      <th>History_Std</th>\n      <th>Mee</th>\n      <th>Test_Score</th>\n      <th>Test_Mee</th>\n      <th>Trained_Epochs</th>\n      <th>History</th>\n      <th>Model</th>\n      <th>Config</th>\n      <th>Num_Layers</th>\n      <th>Num_of_Units</th>\n      <th>Name</th>\n    </tr>\n  </thead>\n  <tbody>\n    <tr>\n      <th>0</th>\n      <td>43.517644</td>\n      <td>240.856372</td>\n      <td>6.119869</td>\n      <td>52.672333</td>\n      <td>6.714223</td>\n      <td>102</td>\n      <td>[42.7237410058453, 29.861483755259822, 15.0815...</td>\n      <td>&lt;exclusiveAI.components.NeuralNetwork.NeuralNe...</td>\n      <td>{'regularization': 1e-08, 'learning_rate': 0.2...</td>\n      <td>1</td>\n      <td>[15]</td>\n      <td>Model233614</td>\n    </tr>\n  </tbody>\n</table>\n</div>"
     },
     "execution_count": 5,
     "metadata": {},
     "output_type": "execute_result"
    }
   ],
   "source": [
    "# Sort the DataFrame by the first element in the tuple (column 'Value')\n",
    "\n",
    "df_sorted = df.sort_values(by=['Num_Layers', 'Score', 'Test_Score', 'History_Std'])\n",
    "histories = {row[0]: row[1] for row in df_sorted[['Name', 'History']].values}\n",
    "df_sorted"
   ],
   "metadata": {
    "collapsed": false,
    "ExecuteTime": {
     "end_time": "2024-01-05T17:54:18.835476Z",
     "start_time": "2024-01-05T17:54:18.814457Z"
    }
   },
   "id": "202fa49d977eb543"
  },
  {
   "cell_type": "code",
   "execution_count": 6,
   "outputs": [],
   "source": [
    "# plot_history(histories)\n",
    "\n",
    "# plot_history({\"Model286727\": histories['Model286727']})"
   ],
   "metadata": {
    "collapsed": false,
    "ExecuteTime": {
     "end_time": "2024-01-05T17:54:18.835893Z",
     "start_time": "2024-01-05T17:54:18.826502Z"
    }
   },
   "id": "f1ef262368c4445b"
  }
 ],
 "metadata": {
  "kernelspec": {
   "display_name": "Python 3",
   "language": "python",
   "name": "python3"
  },
  "language_info": {
   "codemirror_mode": {
    "name": "ipython",
    "version": 3
   },
   "file_extension": ".py",
   "mimetype": "text/x-python",
   "name": "python",
   "nbconvert_exporter": "python",
   "pygments_lexer": "ipython3",
   "version": "3.11.5"
  }
 },
 "nbformat": 4,
 "nbformat_minor": 5
}
