{
 "cells": [
  {
   "cell_type": "markdown",
   "source": [
    "# Monk1 \n",
    "Grid Search for Monk1 dataset model selection\n"
   ],
   "metadata": {
    "collapsed": false
   },
   "id": "76221a5d468b33a8"
  },
  {
   "cell_type": "code",
   "execution_count": 1,
   "outputs": [],
   "source": [
    "from exclusiveAI.ConfiguratorGen import ConfiguratorGen\n",
    "from exclusiveAI.datasets.monk import read_monk1\n",
    "from exclusiveAI.utils import one_hot_encoding\n",
    "from exclusiveAI.components.Validation.HoldOut import parallel_hold_out, hold_out\n",
    "import pandas as pd\n",
    "import numpy as np"
   ],
   "metadata": {
    "collapsed": false,
    "ExecuteTime": {
     "end_time": "2023-12-13T18:04:06.022522Z",
     "start_time": "2023-12-13T18:04:05.291508Z"
    }
   },
   "id": "d8f565beeebe055d"
  },
  {
   "cell_type": "markdown",
   "source": [
    "#### Read Monk1 dataset "
   ],
   "metadata": {
    "collapsed": false
   },
   "id": "41c193fe85cb2214"
  },
  {
   "cell_type": "code",
   "execution_count": 2,
   "outputs": [],
   "source": [
    "training_data, training_labels, test_data, test_labels = read_monk1(\"../exclusiveAI/datasets/\")"
   ],
   "metadata": {
    "collapsed": false,
    "ExecuteTime": {
     "end_time": "2023-12-13T18:04:06.030403Z",
     "start_time": "2023-12-13T18:04:06.023636Z"
    }
   },
   "id": "c2efbf06487c3d0f"
  },
  {
   "cell_type": "markdown",
   "source": [
    "One-Hot Encoding Training Dataset"
   ],
   "metadata": {
    "collapsed": false
   },
   "id": "6c2a7c15dc5f0bf3"
  },
  {
   "cell_type": "code",
   "execution_count": 3,
   "outputs": [],
   "source": [
    "training_data = one_hot_encoding(training_data)"
   ],
   "metadata": {
    "collapsed": false,
    "ExecuteTime": {
     "end_time": "2023-12-13T18:04:06.030878Z",
     "start_time": "2023-12-13T18:04:06.029281Z"
    }
   },
   "id": "b54f54f940a1597f"
  },
  {
   "cell_type": "markdown",
   "source": [
    "One-Hot Encoding Test Dataset"
   ],
   "metadata": {
    "collapsed": false
   },
   "id": "2fe910ec3314ef77"
  },
  {
   "cell_type": "code",
   "execution_count": 4,
   "outputs": [],
   "source": [
    "test_data = one_hot_encoding(test_data)"
   ],
   "metadata": {
    "collapsed": false,
    "ExecuteTime": {
     "end_time": "2023-12-13T18:04:06.034743Z",
     "start_time": "2023-12-13T18:04:06.032017Z"
    }
   },
   "id": "7d7ff08be1ee7aa5"
  },
  {
   "cell_type": "markdown",
   "source": [
    "Configuration Generator Grid Search for better hyperparameters selection"
   ],
   "metadata": {
    "collapsed": false
   },
   "id": "35fe3b0cb99b46a"
  },
  {
   "cell_type": "code",
   "execution_count": 6,
   "outputs": [],
   "source": [
    "regularizations = np.arange(0, 0.001, 0.0001)\n",
    "learning_rates = np.arange(0.01, 0.5, 0.01)\n",
    "number_of_units = range(1, 4, 1)\n",
    "number_of_layers = range(1, 2, 1) \n",
    "initializers = [\"uniform\", \"gaussian\"]\n",
    "momentums = np.arange(0, 0.999, 0.001)\n",
    "activations = [\"sigmoid\"]\n",
    "\n",
    "myConfigurator = ConfiguratorGen(random=False, learning_rates=learning_rates, regularizations=regularizations,\n",
    "                             loss_function=['mse'], optimizer=['sgd'],\n",
    "                             activation_functions=activations,\n",
    "                             number_of_units=number_of_units, number_of_layers=number_of_layers,\n",
    "                             momentums=momentums, initializers=initializers,\n",
    "                             input_shapes=training_data.shape,\n",
    "                             verbose=False, nesterov=True, number_of_initializations=1,\n",
    "                             callbacks=[\"earlystopping\"], output_activation='sigmoid'\n",
    "                             ).get_configs()\n",
    "    "
   ],
   "metadata": {
    "collapsed": false,
    "ExecuteTime": {
     "end_time": "2023-12-13T18:04:31.900116Z",
     "start_time": "2023-12-13T18:04:06.038859Z"
    }
   },
   "id": "a9aef1ab1b752912"
  },
  {
   "cell_type": "markdown",
   "source": [
    "HoldOut validation with our configurations"
   ],
   "metadata": {
    "collapsed": false
   },
   "id": "f5e85155e7b8a7e6"
  },
  {
   "cell_type": "code",
   "execution_count": 7,
   "outputs": [
    {
     "name": "stderr",
     "output_type": "stream",
     "text": [
      "Models:   0%|\u001B[37m          \u001B[0m| 2756/39160800 [01:05<259:12:17, 41.96it/s]\n"
     ]
    },
    {
     "ename": "KeyboardInterrupt",
     "evalue": "",
     "output_type": "error",
     "traceback": [
      "\u001B[0;31m---------------------------------------------------------------------------\u001B[0m",
      "\u001B[0;31mKeyboardInterrupt\u001B[0m                         Traceback (most recent call last)",
      "Cell \u001B[0;32mIn[7], line 5\u001B[0m\n\u001B[1;32m      2\u001B[0m epochs\u001B[38;5;241m=\u001B[39m\u001B[38;5;241m200\u001B[39m\n\u001B[1;32m      4\u001B[0m myValidation \u001B[38;5;241m=\u001B[39m HoldOut(models\u001B[38;5;241m=\u001B[39mmyConfigurator, \u001B[38;5;28minput\u001B[39m\u001B[38;5;241m=\u001B[39mtraining_data, target\u001B[38;5;241m=\u001B[39mtraining_labels, debug\u001B[38;5;241m=\u001B[39m\u001B[38;5;28;01mTrue\u001B[39;00m)\n\u001B[0;32m----> 5\u001B[0m configs \u001B[38;5;241m=\u001B[39m \u001B[43mmyValidation\u001B[49m\u001B[38;5;241;43m.\u001B[39;49m\u001B[43mhold_out\u001B[49m\u001B[43m(\u001B[49m\u001B[43mall_models\u001B[49m\u001B[38;5;241;43m=\u001B[39;49m\u001B[38;5;28;43;01mTrue\u001B[39;49;00m\u001B[43m,\u001B[49m\u001B[43m \u001B[49m\u001B[43mbatch_size\u001B[49m\u001B[38;5;241;43m=\u001B[39;49m\u001B[43mbatch_size\u001B[49m\u001B[43m,\u001B[49m\u001B[43m \u001B[49m\u001B[43mepochs\u001B[49m\u001B[38;5;241;43m=\u001B[39;49m\u001B[43mepochs\u001B[49m\u001B[43m)\u001B[49m\n",
      "File \u001B[0;32m~/Documents/Projects/MLProject/exclusiveAI/components/Validation/HoldOut.py:71\u001B[0m, in \u001B[0;36mHoldOut.hold_out\u001B[0;34m(self, metric, all_models, epochs, batch_size, disable_line)\u001B[0m\n\u001B[1;32m     69\u001B[0m \u001B[38;5;28;01mwith\u001B[39;00m tqdm(total\u001B[38;5;241m=\u001B[39m\u001B[38;5;28mself\u001B[39m\u001B[38;5;241m.\u001B[39mmodels\u001B[38;5;241m.\u001B[39mlen(), desc\u001B[38;5;241m=\u001B[39m\u001B[38;5;124m\"\u001B[39m\u001B[38;5;124mModels\u001B[39m\u001B[38;5;124m\"\u001B[39m, colour\u001B[38;5;241m=\u001B[39m\u001B[38;5;124m\"\u001B[39m\u001B[38;5;124mwhite\u001B[39m\u001B[38;5;124m\"\u001B[39m) \u001B[38;5;28;01mas\u001B[39;00m pbar:\n\u001B[1;32m     70\u001B[0m     \u001B[38;5;28;01mfor\u001B[39;00m model, config \u001B[38;5;129;01min\u001B[39;00m \u001B[38;5;28mself\u001B[39m\u001B[38;5;241m.\u001B[39mmodels:\n\u001B[0;32m---> 71\u001B[0m         \u001B[43mmodel\u001B[49m\u001B[38;5;241;43m.\u001B[39;49m\u001B[43mtrain\u001B[49m\u001B[43m(\u001B[49m\u001B[43mtrain\u001B[49m\u001B[43m,\u001B[49m\u001B[43m \u001B[49m\u001B[43mtrain_target\u001B[49m\u001B[43m,\u001B[49m\u001B[43m \u001B[49m\u001B[38;5;28;43;01mNone\u001B[39;49;00m\u001B[43m \u001B[49m\u001B[38;5;28;43;01mif\u001B[39;49;00m\u001B[43m \u001B[49m\u001B[38;5;28;43mself\u001B[39;49m\u001B[38;5;241;43m.\u001B[39;49m\u001B[43massessment\u001B[49m\u001B[43m \u001B[49m\u001B[38;5;28;43;01melse\u001B[39;49;00m\u001B[43m \u001B[49m\u001B[43mvalidation\u001B[49m\u001B[43m,\u001B[49m\n\u001B[1;32m     72\u001B[0m \u001B[43m                    \u001B[49m\u001B[38;5;28;43;01mNone\u001B[39;49;00m\u001B[43m \u001B[49m\u001B[38;5;28;43;01mif\u001B[39;49;00m\u001B[43m \u001B[49m\u001B[38;5;28;43mself\u001B[39;49m\u001B[38;5;241;43m.\u001B[39;49m\u001B[43massessment\u001B[49m\u001B[43m \u001B[49m\u001B[38;5;28;43;01melse\u001B[39;49;00m\u001B[43m \u001B[49m\u001B[43mvalidation_target\u001B[49m\u001B[43m,\u001B[49m\u001B[43m \u001B[49m\u001B[43mdisable_line\u001B[49m\u001B[38;5;241;43m=\u001B[39;49m\u001B[43mdisable_line\u001B[49m\u001B[43m,\u001B[49m\u001B[43m \u001B[49m\u001B[43mepochs\u001B[49m\u001B[38;5;241;43m=\u001B[39;49m\u001B[43mepochs\u001B[49m\u001B[43m,\u001B[49m\n\u001B[1;32m     73\u001B[0m \u001B[43m                    \u001B[49m\u001B[43mbatch_size\u001B[49m\u001B[38;5;241;43m=\u001B[39;49m\u001B[43mbatch_size\u001B[49m\u001B[43m)\u001B[49m\n\u001B[1;32m     74\u001B[0m         \u001B[38;5;28;01mif\u001B[39;00m \u001B[38;5;129;01mnot\u001B[39;00m \u001B[38;5;28mself\u001B[39m\u001B[38;5;241m.\u001B[39mbest_models:\n\u001B[1;32m     75\u001B[0m             \u001B[38;5;28mself\u001B[39m\u001B[38;5;241m.\u001B[39mbest_models\u001B[38;5;241m.\u001B[39mappend(model)\n",
      "File \u001B[0;32m~/Documents/Projects/MLProject/exclusiveAI/components/NeuralNetwork.py:113\u001B[0m, in \u001B[0;36mNeuralNetwork.train\u001B[0;34m(self, inputs, input_label, val, val_labels, epochs, batch_size, name, disable_line)\u001B[0m\n\u001B[1;32m    111\u001B[0m     perm \u001B[38;5;241m=\u001B[39m np\u001B[38;5;241m.\u001B[39mrandom\u001B[38;5;241m.\u001B[39mpermutation(inputs\u001B[38;5;241m.\u001B[39mshape[\u001B[38;5;241m0\u001B[39m])\n\u001B[1;32m    112\u001B[0m     inputs \u001B[38;5;241m=\u001B[39m np\u001B[38;5;241m.\u001B[39mtake(inputs, perm, axis\u001B[38;5;241m=\u001B[39m\u001B[38;5;241m0\u001B[39m)\n\u001B[0;32m--> 113\u001B[0m     input_label \u001B[38;5;241m=\u001B[39m \u001B[43mnp\u001B[49m\u001B[38;5;241;43m.\u001B[39;49m\u001B[43mtake\u001B[49m\u001B[43m(\u001B[49m\u001B[43minput_label\u001B[49m\u001B[43m,\u001B[49m\u001B[43m \u001B[49m\u001B[43mperm\u001B[49m\u001B[43m,\u001B[49m\u001B[43m \u001B[49m\u001B[43maxis\u001B[49m\u001B[38;5;241;43m=\u001B[39;49m\u001B[38;5;241;43m0\u001B[39;49m\u001B[43m)\u001B[49m\n\u001B[1;32m    114\u001B[0m batches \u001B[38;5;241m=\u001B[39m utils\u001B[38;5;241m.\u001B[39msplit_batches(inputs, input_label, batch_size)\n\u001B[1;32m    115\u001B[0m \u001B[38;5;28;01mfor\u001B[39;00m (batch, batch_label) \u001B[38;5;129;01min\u001B[39;00m batches:\n",
      "File \u001B[0;32m~/Documents/Projects/MLProject/exclusiveAIvenv/lib/python3.10/site-packages/numpy/core/fromnumeric.py:192\u001B[0m, in \u001B[0;36mtake\u001B[0;34m(a, indices, axis, out, mode)\u001B[0m\n\u001B[1;32m     95\u001B[0m \u001B[38;5;129m@array_function_dispatch\u001B[39m(_take_dispatcher)\n\u001B[1;32m     96\u001B[0m \u001B[38;5;28;01mdef\u001B[39;00m \u001B[38;5;21mtake\u001B[39m(a, indices, axis\u001B[38;5;241m=\u001B[39m\u001B[38;5;28;01mNone\u001B[39;00m, out\u001B[38;5;241m=\u001B[39m\u001B[38;5;28;01mNone\u001B[39;00m, mode\u001B[38;5;241m=\u001B[39m\u001B[38;5;124m'\u001B[39m\u001B[38;5;124mraise\u001B[39m\u001B[38;5;124m'\u001B[39m):\n\u001B[1;32m     97\u001B[0m \u001B[38;5;250m    \u001B[39m\u001B[38;5;124;03m\"\"\"\u001B[39;00m\n\u001B[1;32m     98\u001B[0m \u001B[38;5;124;03m    Take elements from an array along an axis.\u001B[39;00m\n\u001B[1;32m     99\u001B[0m \n\u001B[0;32m   (...)\u001B[0m\n\u001B[1;32m    190\u001B[0m \u001B[38;5;124;03m           [5, 7]])\u001B[39;00m\n\u001B[1;32m    191\u001B[0m \u001B[38;5;124;03m    \"\"\"\u001B[39;00m\n\u001B[0;32m--> 192\u001B[0m     \u001B[38;5;28;01mreturn\u001B[39;00m \u001B[43m_wrapfunc\u001B[49m\u001B[43m(\u001B[49m\u001B[43ma\u001B[49m\u001B[43m,\u001B[49m\u001B[43m \u001B[49m\u001B[38;5;124;43m'\u001B[39;49m\u001B[38;5;124;43mtake\u001B[39;49m\u001B[38;5;124;43m'\u001B[39;49m\u001B[43m,\u001B[49m\u001B[43m \u001B[49m\u001B[43mindices\u001B[49m\u001B[43m,\u001B[49m\u001B[43m \u001B[49m\u001B[43maxis\u001B[49m\u001B[38;5;241;43m=\u001B[39;49m\u001B[43maxis\u001B[49m\u001B[43m,\u001B[49m\u001B[43m \u001B[49m\u001B[43mout\u001B[49m\u001B[38;5;241;43m=\u001B[39;49m\u001B[43mout\u001B[49m\u001B[43m,\u001B[49m\u001B[43m \u001B[49m\u001B[43mmode\u001B[49m\u001B[38;5;241;43m=\u001B[39;49m\u001B[43mmode\u001B[49m\u001B[43m)\u001B[49m\n",
      "File \u001B[0;32m~/Documents/Projects/MLProject/exclusiveAIvenv/lib/python3.10/site-packages/numpy/core/fromnumeric.py:59\u001B[0m, in \u001B[0;36m_wrapfunc\u001B[0;34m(obj, method, *args, **kwds)\u001B[0m\n\u001B[1;32m     56\u001B[0m     \u001B[38;5;28;01mreturn\u001B[39;00m _wrapit(obj, method, \u001B[38;5;241m*\u001B[39margs, \u001B[38;5;241m*\u001B[39m\u001B[38;5;241m*\u001B[39mkwds)\n\u001B[1;32m     58\u001B[0m \u001B[38;5;28;01mtry\u001B[39;00m:\n\u001B[0;32m---> 59\u001B[0m     \u001B[38;5;28;01mreturn\u001B[39;00m \u001B[43mbound\u001B[49m\u001B[43m(\u001B[49m\u001B[38;5;241;43m*\u001B[39;49m\u001B[43margs\u001B[49m\u001B[43m,\u001B[49m\u001B[43m \u001B[49m\u001B[38;5;241;43m*\u001B[39;49m\u001B[38;5;241;43m*\u001B[39;49m\u001B[43mkwds\u001B[49m\u001B[43m)\u001B[49m\n\u001B[1;32m     60\u001B[0m \u001B[38;5;28;01mexcept\u001B[39;00m \u001B[38;5;167;01mTypeError\u001B[39;00m:\n\u001B[1;32m     61\u001B[0m     \u001B[38;5;66;03m# A TypeError occurs if the object does have such a method in its\u001B[39;00m\n\u001B[1;32m     62\u001B[0m     \u001B[38;5;66;03m# class, but its signature is not identical to that of NumPy's. This\u001B[39;00m\n\u001B[0;32m   (...)\u001B[0m\n\u001B[1;32m     66\u001B[0m     \u001B[38;5;66;03m# Call _wrapit from within the except clause to ensure a potential\u001B[39;00m\n\u001B[1;32m     67\u001B[0m     \u001B[38;5;66;03m# exception has a traceback chain.\u001B[39;00m\n\u001B[1;32m     68\u001B[0m     \u001B[38;5;28;01mreturn\u001B[39;00m _wrapit(obj, method, \u001B[38;5;241m*\u001B[39margs, \u001B[38;5;241m*\u001B[39m\u001B[38;5;241m*\u001B[39mkwds)\n",
      "\u001B[0;31mKeyboardInterrupt\u001B[0m: "
     ]
    }
   ],
   "source": [
    "batch_size=32\n",
    "epochs=200\n",
    "configs=[]\n",
    "if __name__ == '__main__':\n",
    "    configs = parallel_hold_out(configs=myConfigurator, training=training_data, training_target=training_labels, epochs=epochs, batch_size=batch_size, all_models=True, num_models=500)"
   ],
   "metadata": {
    "collapsed": false,
    "ExecuteTime": {
     "end_time": "2023-12-13T18:05:37.819709Z",
     "start_time": "2023-12-13T18:04:31.900831Z"
    }
   },
   "id": "3e55953fb605152c"
  },
  {
   "cell_type": "code",
   "execution_count": null,
   "outputs": [],
   "source": [
    "configs = pd.DataFrame(configs)\n",
    "# Save as json\n",
    "configs.to_json('monk1_models_configurations.json')"
   ],
   "metadata": {
    "collapsed": false,
    "ExecuteTime": {
     "start_time": "2023-12-13T18:05:37.818554Z"
    }
   },
   "id": "bfc6ad0e288d996a"
  }
 ],
 "metadata": {
  "kernelspec": {
   "display_name": "Python 3",
   "language": "python",
   "name": "python3"
  },
  "language_info": {
   "codemirror_mode": {
    "name": "ipython",
    "version": 2
   },
   "file_extension": ".py",
   "mimetype": "text/x-python",
   "name": "python",
   "nbconvert_exporter": "python",
   "pygments_lexer": "ipython2",
   "version": "2.7.6"
  }
 },
 "nbformat": 4,
 "nbformat_minor": 5
}
