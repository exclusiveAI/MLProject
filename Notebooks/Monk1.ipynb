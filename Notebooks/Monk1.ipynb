{
 "cells": [
  {
   "cell_type": "markdown",
   "id": "76221a5d468b33a8",
   "metadata": {
    "collapsed": false
   },
   "source": [
    "# Monk1 \n",
    "Grid Search for Monk1 dataset model selection\n"
   ]
  },
  {
   "cell_type": "code",
   "execution_count": 3,
   "id": "d8f565beeebe055d",
   "metadata": {
    "ExecuteTime": {
     "end_time": "2023-12-13T18:04:06.022522Z",
     "start_time": "2023-12-13T18:04:05.291508Z"
    },
    "collapsed": false
   },
   "outputs": [],
   "source": [
    "from exclusiveAI.ConfiguratorGen import ConfiguratorGen\n",
    "from exclusiveAI.datasets.monk import read_monk1\n",
    "from exclusiveAI.utils import one_hot_encoding\n",
    "from exclusiveAI.components.Validation.HoldOut import parallel_hold_out, hold_out\n",
    "import pandas as pd\n",
    "import numpy as np"
   ]
  },
  {
   "cell_type": "markdown",
   "id": "41c193fe85cb2214",
   "metadata": {
    "collapsed": false
   },
   "source": [
    "#### Read Monk1 dataset "
   ]
  },
  {
   "cell_type": "code",
   "execution_count": 4,
   "id": "c2efbf06487c3d0f",
   "metadata": {
    "ExecuteTime": {
     "end_time": "2023-12-13T18:04:06.030403Z",
     "start_time": "2023-12-13T18:04:06.023636Z"
    },
    "collapsed": false
   },
   "outputs": [],
   "source": [
    "training_data, training_labels, test_data, test_labels = read_monk1(\"exclusiveAI/datasets/\")"
   ]
  },
  {
   "cell_type": "markdown",
   "id": "6c2a7c15dc5f0bf3",
   "metadata": {
    "collapsed": false
   },
   "source": [
    "One-Hot Encoding Training Dataset"
   ]
  },
  {
   "cell_type": "code",
   "execution_count": 5,
   "id": "b54f54f940a1597f",
   "metadata": {
    "ExecuteTime": {
     "end_time": "2023-12-13T18:04:06.030878Z",
     "start_time": "2023-12-13T18:04:06.029281Z"
    },
    "collapsed": false
   },
   "outputs": [],
   "source": [
    "training_data = one_hot_encoding(training_data)"
   ]
  },
  {
   "cell_type": "markdown",
   "id": "2fe910ec3314ef77",
   "metadata": {
    "collapsed": false
   },
   "source": [
    "One-Hot Encoding Test Dataset"
   ]
  },
  {
   "cell_type": "code",
   "execution_count": 6,
   "id": "7d7ff08be1ee7aa5",
   "metadata": {
    "ExecuteTime": {
     "end_time": "2023-12-13T18:04:06.034743Z",
     "start_time": "2023-12-13T18:04:06.032017Z"
    },
    "collapsed": false
   },
   "outputs": [],
   "source": [
    "test_data = one_hot_encoding(test_data)"
   ]
  },
  {
   "cell_type": "markdown",
   "id": "35fe3b0cb99b46a",
   "metadata": {
    "collapsed": false
   },
   "source": [
    "Configuration Generator Grid Search for better hyperparameters selection"
   ]
  },
  {
   "cell_type": "code",
   "execution_count": 7,
   "id": "a9aef1ab1b752912",
   "metadata": {
    "ExecuteTime": {
     "end_time": "2023-12-13T18:04:31.900116Z",
     "start_time": "2023-12-13T18:04:06.038859Z"
    },
    "collapsed": false
   },
   "outputs": [
    {
     "name": "stderr",
     "output_type": "stream",
     "text": [
      "2nd for: 100%|\u001b[37m██████████\u001b[0m| 1958040/1958040 [00:15<00:00, 128098.56it/s]\n"
     ]
    }
   ],
   "source": [
    "regularizations = np.arange(0, 0.001, 0.0001)\n",
    "learning_rates = np.arange(0.01, 0.5, 0.01)\n",
    "number_of_units = range(1, 4, 1)\n",
    "number_of_layers = range(1, 2, 1) \n",
    "initializers = [\"uniform\", \"gaussian\"]\n",
    "momentums = np.arange(0, 0.999, 0.001)\n",
    "activations = [\"sigmoid\"]\n",
    "\n",
    "myConfigurator = ConfiguratorGen(random=False, learning_rates=learning_rates, regularizations=regularizations,\n",
    "                             loss_function=['mse'], optimizer=['sgd'],\n",
    "                             activation_functions=activations,\n",
    "                             number_of_units=number_of_units, number_of_layers=number_of_layers,\n",
    "                             momentums=momentums, initializers=initializers,\n",
    "                             input_shapes=training_data.shape,\n",
    "                             verbose=False, nesterov=True, number_of_initializations=1,\n",
    "                             callbacks=[\"earlystopping\"], output_activation='sigmoid', show_line=True,\n",
    "                             ).get_configs()\n",
    "\n",
    "length = len(myConfigurator)\n",
    "buckets = 10\n",
    "\n",
    "bucket = {}\n",
    "for i in range(buckets):\n",
    "    bucket[i] = myConfigurator[i*length//buckets:(i+1)*length//buckets if i+1<buckets else length]"
   ]
  },
  {
   "cell_type": "markdown",
   "id": "f5e85155e7b8a7e6",
   "metadata": {
    "collapsed": false
   },
   "source": [
    "HoldOut validation with our configurations"
   ]
  },
  {
   "cell_type": "code",
   "execution_count": 8,
   "id": "3e55953fb605152c",
   "metadata": {
    "ExecuteTime": {
     "end_time": "2023-12-13T18:05:37.819709Z",
     "start_time": "2023-12-13T18:04:31.900831Z"
    },
    "collapsed": false
   },
   "outputs": [
    {
     "name": "stderr",
     "output_type": "stream",
     "text": [
      "Models:   2%|\u001b[37m▏         \u001b[0m| 13254/587412 [04:20<3:42:37, 42.98it/s] "
     ]
    }
   ],
   "source": [
    "batch_size=32\n",
    "epochs=200\n",
    "configs=[]\n",
    "if __name__ == '__main__':\n",
    "    for i in range(buckets):\n",
    "        configs.append(parallel_hold_out(bucket[i], training=training_data, training_target=training_labels, epochs=epochs, batch_size=batch_size, all_models=True, num_models=500//buckets))"
   ]
  },
  {
   "cell_type": "code",
   "execution_count": null,
   "id": "bfc6ad0e288d996a",
   "metadata": {
    "ExecuteTime": {
     "start_time": "2023-12-13T18:05:37.818554Z"
    },
    "collapsed": false
   },
   "outputs": [],
   "source": [
    "configs = pd.DataFrame(configs)\n",
    "# Save as json\n",
    "configs.to_json('monk1_models_configurations.json')"
   ]
  }
 ],
 "metadata": {
  "kernelspec": {
   "display_name": "Python 3",
   "language": "python",
   "name": "python3"
  },
  "language_info": {
   "codemirror_mode": {
    "name": "ipython",
    "version": 3
   },
   "file_extension": ".py",
   "mimetype": "text/x-python",
   "name": "python",
   "nbconvert_exporter": "python",
   "pygments_lexer": "ipython3",
   "version": "3.11.5"
  }
 },
 "nbformat": 4,
 "nbformat_minor": 5
}
