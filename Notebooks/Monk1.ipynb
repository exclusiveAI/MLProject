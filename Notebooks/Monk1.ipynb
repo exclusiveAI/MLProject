{
 "cells": [
  {
   "cell_type": "markdown",
   "source": [
    "# Monk1 \n",
    "Grid Search for Monk1 dataset model selection\n"
   ],
   "metadata": {
    "collapsed": false
   },
   "id": "76221a5d468b33a8"
  },
  {
   "cell_type": "code",
   "execution_count": 1,
   "outputs": [],
   "source": [
    "from exclusiveAI.ConfiguratorGen import ConfiguratorGen\n",
    "from exclusiveAI.datasets.monk import read_monk1\n",
    "from exclusiveAI.components.Validation import *\n",
    "from exclusiveAI.utils import one_hot_encoding\n",
    "from exclusiveAI.components.CallBacks import *\n",
    "from exclusiveAI.components.Initializers import *\n",
    "from exclusiveAI.Composer import Composer\n",
    "import pandas as pd\n",
    "import numpy as np\n",
    "import pickle\n",
    "import os"
   ],
   "metadata": {
    "collapsed": false,
    "ExecuteTime": {
     "end_time": "2023-12-13T17:43:14.918270Z",
     "start_time": "2023-12-13T17:43:14.256617Z"
    }
   },
   "id": "d8f565beeebe055d"
  },
  {
   "cell_type": "markdown",
   "source": [
    "#### Read Monk1 dataset "
   ],
   "metadata": {
    "collapsed": false
   },
   "id": "41c193fe85cb2214"
  },
  {
   "cell_type": "code",
   "execution_count": 2,
   "outputs": [],
   "source": [
    "training_data, training_labels, test_data, test_labels = read_monk1(\"../exclusiveAI/datasets/\")"
   ],
   "metadata": {
    "collapsed": false,
    "ExecuteTime": {
     "end_time": "2023-12-13T17:43:14.925767Z",
     "start_time": "2023-12-13T17:43:14.918832Z"
    }
   },
   "id": "c2efbf06487c3d0f"
  },
  {
   "cell_type": "markdown",
   "source": [
    "One-Hot Encoding Training Dataset"
   ],
   "metadata": {
    "collapsed": false
   },
   "id": "6c2a7c15dc5f0bf3"
  },
  {
   "cell_type": "code",
   "execution_count": 3,
   "outputs": [],
   "source": [
    "training_data = one_hot_encoding(training_data)"
   ],
   "metadata": {
    "collapsed": false,
    "ExecuteTime": {
     "end_time": "2023-12-13T17:43:14.929956Z",
     "start_time": "2023-12-13T17:43:14.924408Z"
    }
   },
   "id": "b54f54f940a1597f"
  },
  {
   "cell_type": "markdown",
   "source": [
    "One-Hot Encoding Test Dataset"
   ],
   "metadata": {
    "collapsed": false
   },
   "id": "2fe910ec3314ef77"
  },
  {
   "cell_type": "code",
   "execution_count": 4,
   "outputs": [],
   "source": [
    "test_data = one_hot_encoding(test_data)"
   ],
   "metadata": {
    "collapsed": false,
    "ExecuteTime": {
     "end_time": "2023-12-13T17:43:14.930260Z",
     "start_time": "2023-12-13T17:43:14.927489Z"
    }
   },
   "id": "7d7ff08be1ee7aa5"
  },
  {
   "cell_type": "markdown",
   "source": [
    "Early Stopping Callback with 50 epochs patience limit"
   ],
   "metadata": {
    "collapsed": false
   },
   "id": "a34abcc463d25a2e"
  },
  {
   "cell_type": "code",
   "execution_count": 5,
   "outputs": [],
   "source": [
    "patience_limit = 10\n",
    "early_stopping = EarlyStoppingCallback(patience_limit=patience_limit, eps=1e-3)"
   ],
   "metadata": {
    "collapsed": false,
    "ExecuteTime": {
     "end_time": "2023-12-13T17:43:14.934047Z",
     "start_time": "2023-12-13T17:43:14.931643Z"
    }
   },
   "id": "60346e93f3af4818"
  },
  {
   "cell_type": "markdown",
   "source": [
    "Configuration Generator Grid Search for better hyperparameters selection"
   ],
   "metadata": {
    "collapsed": false
   },
   "id": "35fe3b0cb99b46a"
  },
  {
   "cell_type": "code",
   "execution_count": 6,
   "outputs": [],
   "source": [
    "regularizations = np.arange(0, 0.001, 0.0001)\n",
    "learning_rates = np.arange(0.01, 0.5, 0.01)\n",
    "number_of_units = range(1, 5, 1)\n",
    "number_of_layers = range(1, 3, 1) \n",
    "uniform = Uniform(low=-1, high=1)\n",
    "initializers = [\"uniform\", \"gaussian\"]\n",
    "momentums = np.arange(0, 0.999, 0.001)\n",
    "activations = [\"sigmoid\"]\n",
    "file_name = \"monk1_configurations.pkl\"\n",
    "\n",
    "if not os.path.exists(file_name):\n",
    "    myConfigurator = ConfiguratorGen(random=False, regularizations=regularizations, learning_rates=learning_rates,\n",
    "                                     loss_function=['mse'], optimizer=['sgd'],\n",
    "                                     activation_functions=activations, nesterov=True,\n",
    "                                     number_of_units=number_of_units, number_of_layers=number_of_layers,\n",
    "                                     momentums=momentums, initializers=initializers, input_shapes=training_data.shape, verbose=False,\n",
    "                                     callbacks=[early_stopping], output_activation='sigmoid'\n",
    "                                     )\n",
    "    \n",
    "    myConfigurator.save(file_name)\n",
    "else: myConfigurator = pickle.load(open(file_name, 'rb'))"
   ],
   "metadata": {
    "collapsed": false,
    "ExecuteTime": {
     "end_time": "2023-12-13T17:43:41.241006Z",
     "start_time": "2023-12-13T17:43:14.935177Z"
    }
   },
   "id": "a9aef1ab1b752912"
  },
  {
   "cell_type": "markdown",
   "source": [
    "HoldOut validation with our configurations"
   ],
   "metadata": {
    "collapsed": false
   },
   "id": "f5e85155e7b8a7e6"
  },
  {
   "cell_type": "code",
   "execution_count": 7,
   "outputs": [
    {
     "name": "stderr",
     "output_type": "stream",
     "text": [
      "Models:   0%|\u001B[37m          \u001B[0m| 0/39160800 [00:00<?, ?it/s]\n",
      "Epochs:   0%|\u001B[37m          \u001B[0m| 0/200 [00:00<?, ?it/s]\u001B[A\n",
      "Epochs:   0%|\u001B[37m          \u001B[0m| 1/200 [00:00<00:00, 654.13it/s, mse=0.257, val_mse=0.249, mae=0.501, val_mae=0.492, mee=0.501, val_mee=0.492, binary_accuracy=0.495, val_binary_accuracy=0.52]\u001B[A\n",
      "Epochs:   1%|\u001B[37m          \u001B[0m| 2/200 [00:00<00:00, 579.04it/s, mse=0.257, val_mse=0.249, mae=0.501, val_mae=0.492, mee=0.501, val_mee=0.492, binary_accuracy=0.495, val_binary_accuracy=0.52]\u001B[A\n",
      "Epochs:   2%|\u001B[37m▏         \u001B[0m| 3/200 [00:00<00:00, 558.67it/s, mse=0.257, val_mse=0.249, mae=0.501, val_mae=0.492, mee=0.501, val_mee=0.492, binary_accuracy=0.495, val_binary_accuracy=0.52]\u001B[A\n",
      "Epochs:   2%|\u001B[37m▏         \u001B[0m| 4/200 [00:00<00:00, 581.39it/s, mse=0.257, val_mse=0.248, mae=0.501, val_mae=0.492, mee=0.501, val_mee=0.492, binary_accuracy=0.495, val_binary_accuracy=0.52]\u001B[A\n",
      "Epochs:   2%|\u001B[37m▎         \u001B[0m| 5/200 [00:00<00:00, 589.14it/s, mse=0.257, val_mse=0.248, mae=0.501, val_mae=0.492, mee=0.501, val_mee=0.492, binary_accuracy=0.495, val_binary_accuracy=0.52]\u001B[A\n",
      "Epochs:   3%|\u001B[37m▎         \u001B[0m| 6/200 [00:00<00:00, 598.27it/s, mse=0.257, val_mse=0.248, mae=0.501, val_mae=0.492, mee=0.501, val_mee=0.492, binary_accuracy=0.495, val_binary_accuracy=0.52]\u001B[A\n",
      "Epochs:   4%|\u001B[37m▎         \u001B[0m| 7/200 [00:00<00:00, 617.73it/s, mse=0.257, val_mse=0.248, mae=0.501, val_mae=0.492, mee=0.501, val_mee=0.492, binary_accuracy=0.495, val_binary_accuracy=0.52]\u001B[A\n",
      "Epochs:   4%|\u001B[37m▍         \u001B[0m| 8/200 [00:00<00:00, 600.19it/s, mse=0.257, val_mse=0.248, mae=0.501, val_mae=0.492, mee=0.501, val_mee=0.492, binary_accuracy=0.495, val_binary_accuracy=0.52]\u001B[A\n",
      "Epochs:   4%|\u001B[37m▍         \u001B[0m| 9/200 [00:00<00:00, 602.21it/s, mse=0.256, val_mse=0.248, mae=0.501, val_mae=0.492, mee=0.501, val_mee=0.492, binary_accuracy=0.495, val_binary_accuracy=0.52]\u001B[A\n",
      "Epochs:   5%|\u001B[37m▌         \u001B[0m| 10/200 [00:00<00:00, 594.04it/s, mse=0.256, val_mse=0.248, mae=0.501, val_mae=0.492, mee=0.501, val_mee=0.492, binary_accuracy=0.495, val_binary_accuracy=0.52]\u001B[A\n",
      "Epochs:   6%|\u001B[37m▌         \u001B[0m| 11/200 [00:00<00:00, 573.28it/s, mse=0.256, val_mse=0.248, mae=0.501, val_mae=0.492, mee=0.501, val_mee=0.492, binary_accuracy=0.495, val_binary_accuracy=0.52]\u001B[A\n",
      "\n",
      "Epochs:   0%|\u001B[37m          \u001B[0m| 0/200 [00:00<?, ?it/s]\u001B[A\n",
      "Epochs:   0%|\u001B[37m          \u001B[0m| 1/200 [00:00<00:00, 667.14it/s, mse=0.247, val_mse=0.238, mae=0.496, val_mae=0.486, mee=0.496, val_mee=0.486, binary_accuracy=0.566, val_binary_accuracy=0.6]\u001B[A\n",
      "Epochs:   1%|\u001B[37m          \u001B[0m| 2/200 [00:00<00:00, 570.61it/s, mse=0.247, val_mse=0.238, mae=0.496, val_mae=0.486, mee=0.496, val_mee=0.486, binary_accuracy=0.566, val_binary_accuracy=0.6]\u001B[A\n",
      "Epochs:   2%|\u001B[37m▏         \u001B[0m| 3/200 [00:00<00:00, 573.62it/s, mse=0.247, val_mse=0.238, mae=0.496, val_mae=0.486, mee=0.496, val_mee=0.486, binary_accuracy=0.566, val_binary_accuracy=0.6]\u001B[A\n",
      "Epochs:   2%|\u001B[37m▏         \u001B[0m| 4/200 [00:00<00:00, 570.29it/s, mse=0.247, val_mse=0.238, mae=0.496, val_mae=0.486, mee=0.496, val_mee=0.486, binary_accuracy=0.566, val_binary_accuracy=0.64]\u001B[A\n",
      "Epochs:   2%|\u001B[37m▎         \u001B[0m| 5/200 [00:00<00:00, 582.75it/s, mse=0.247, val_mse=0.238, mae=0.496, val_mae=0.486, mee=0.496, val_mee=0.486, binary_accuracy=0.586, val_binary_accuracy=0.64]\u001B[A\n",
      "Epochs:   3%|\u001B[37m▎         \u001B[0m| 6/200 [00:00<00:00, 600.36it/s, mse=0.247, val_mse=0.238, mae=0.496, val_mae=0.486, mee=0.496, val_mee=0.486, binary_accuracy=0.566, val_binary_accuracy=0.6] \u001B[A\n",
      "Epochs:   4%|\u001B[37m▎         \u001B[0m| 7/200 [00:00<00:00, 603.76it/s, mse=0.247, val_mse=0.238, mae=0.496, val_mae=0.486, mee=0.496, val_mee=0.486, binary_accuracy=0.566, val_binary_accuracy=0.64]\u001B[A\n",
      "Epochs:   4%|\u001B[37m▍         \u001B[0m| 8/200 [00:00<00:00, 620.31it/s, mse=0.247, val_mse=0.238, mae=0.496, val_mae=0.486, mee=0.496, val_mee=0.486, binary_accuracy=0.586, val_binary_accuracy=0.64]\u001B[A\n",
      "Epochs:   4%|\u001B[37m▍         \u001B[0m| 9/200 [00:00<00:00, 617.03it/s, mse=0.247, val_mse=0.238, mae=0.496, val_mae=0.486, mee=0.496, val_mee=0.486, binary_accuracy=0.586, val_binary_accuracy=0.64]\u001B[A\n",
      "Epochs:   5%|\u001B[37m▌         \u001B[0m| 10/200 [00:00<00:00, 621.24it/s, mse=0.247, val_mse=0.238, mae=0.496, val_mae=0.486, mee=0.496, val_mee=0.486, binary_accuracy=0.576, val_binary_accuracy=0.64]\u001B[A\n",
      "Epochs:   6%|\u001B[37m▌         \u001B[0m| 11/200 [00:00<00:00, 601.59it/s, mse=0.247, val_mse=0.238, mae=0.496, val_mae=0.486, mee=0.496, val_mee=0.486, binary_accuracy=0.566, val_binary_accuracy=0.64]\u001B[A\n",
      "Models:   0%|\u001B[37m          \u001B[0m| 1/39160800 [00:19<214801:57:17, 19.75s/it]\n"
     ]
    },
    {
     "ename": "KeyboardInterrupt",
     "evalue": "",
     "output_type": "error",
     "traceback": [
      "\u001B[0;31m---------------------------------------------------------------------------\u001B[0m",
      "\u001B[0;31mKeyboardInterrupt\u001B[0m                         Traceback (most recent call last)",
      "Cell \u001B[0;32mIn[7], line 5\u001B[0m\n\u001B[1;32m      2\u001B[0m epochs\u001B[38;5;241m=\u001B[39m\u001B[38;5;241m200\u001B[39m\n\u001B[1;32m      4\u001B[0m myValidation \u001B[38;5;241m=\u001B[39m HoldOut(models\u001B[38;5;241m=\u001B[39mmyConfigurator, \u001B[38;5;28minput\u001B[39m\u001B[38;5;241m=\u001B[39mtraining_data, target\u001B[38;5;241m=\u001B[39mtraining_labels, debug\u001B[38;5;241m=\u001B[39m\u001B[38;5;28;01mTrue\u001B[39;00m)\n\u001B[0;32m----> 5\u001B[0m configs \u001B[38;5;241m=\u001B[39m \u001B[43mmyValidation\u001B[49m\u001B[38;5;241;43m.\u001B[39;49m\u001B[43mhold_out\u001B[49m\u001B[43m(\u001B[49m\u001B[43mall_models\u001B[49m\u001B[38;5;241;43m=\u001B[39;49m\u001B[38;5;28;43;01mTrue\u001B[39;49;00m\u001B[43m,\u001B[49m\u001B[43m \u001B[49m\u001B[43mbatch_size\u001B[49m\u001B[38;5;241;43m=\u001B[39;49m\u001B[43mbatch_size\u001B[49m\u001B[43m,\u001B[49m\u001B[43m \u001B[49m\u001B[43mepochs\u001B[49m\u001B[38;5;241;43m=\u001B[39;49m\u001B[43mepochs\u001B[49m\u001B[43m,\u001B[49m\u001B[43m \u001B[49m\u001B[43mdisable_line\u001B[49m\u001B[38;5;241;43m=\u001B[39;49m\u001B[38;5;28;43;01mFalse\u001B[39;49;00m\u001B[43m)\u001B[49m\n",
      "File \u001B[0;32m~/Documents/Projects/MLProject/exclusiveAI/components/Validation/HoldOut.py:80\u001B[0m, in \u001B[0;36mHoldOut.hold_out\u001B[0;34m(self, metric, all_models, epochs, batch_size, disable_line)\u001B[0m\n\u001B[1;32m     78\u001B[0m \u001B[38;5;28;01mif\u001B[39;00m all_models:\n\u001B[1;32m     79\u001B[0m     \u001B[38;5;28;01mfor\u001B[39;00m i, ith_model \u001B[38;5;129;01min\u001B[39;00m \u001B[38;5;28menumerate\u001B[39m(\u001B[38;5;28mself\u001B[39m\u001B[38;5;241m.\u001B[39mbest_models):\n\u001B[0;32m---> 80\u001B[0m         \u001B[38;5;28;01mif\u001B[39;00m model\u001B[38;5;241m.\u001B[39mget_last()[metric] \u001B[38;5;241m<\u001B[39m \u001B[43mith_model\u001B[49m\u001B[38;5;241;43m.\u001B[39;49m\u001B[43mget_last\u001B[49m\u001B[43m(\u001B[49m\u001B[43m)\u001B[49m[metric]:\n\u001B[1;32m     81\u001B[0m             \u001B[38;5;28mself\u001B[39m\u001B[38;5;241m.\u001B[39mbest_models\u001B[38;5;241m.\u001B[39minsert(i, model)\n\u001B[1;32m     82\u001B[0m             \u001B[38;5;28mself\u001B[39m\u001B[38;5;241m.\u001B[39mbest_configs\u001B[38;5;241m.\u001B[39minsert(i, config)\n",
      "File \u001B[0;32m~/Documents/Projects/MLProject/exclusiveAI/components/NeuralNetwork.py:130\u001B[0m, in \u001B[0;36mNeuralNetwork.get_last\u001B[0;34m(self)\u001B[0m\n\u001B[1;32m    125\u001B[0m \u001B[38;5;28;01mdef\u001B[39;00m \u001B[38;5;21mget_last\u001B[39m(\u001B[38;5;28mself\u001B[39m):\n\u001B[1;32m    126\u001B[0m \u001B[38;5;250m    \u001B[39m\u001B[38;5;124;03m\"\"\"\u001B[39;00m\n\u001B[1;32m    127\u001B[0m \u001B[38;5;124;03m    Get the last element of the history.\u001B[39;00m\n\u001B[1;32m    128\u001B[0m \u001B[38;5;124;03m    Returns: the last element of the history.\u001B[39;00m\n\u001B[1;32m    129\u001B[0m \u001B[38;5;124;03m    \"\"\"\u001B[39;00m\n\u001B[0;32m--> 130\u001B[0m     \u001B[38;5;28;01mreturn\u001B[39;00m {name: \u001B[38;5;28mself\u001B[39m\u001B[38;5;241m.\u001B[39mhistory[name][\u001B[38;5;241m-\u001B[39m\u001B[38;5;241m1\u001B[39m] \u001B[38;5;28;01mfor\u001B[39;00m name \u001B[38;5;129;01min\u001B[39;00m \u001B[38;5;28mself\u001B[39m\u001B[38;5;241m.\u001B[39mhistory}\n",
      "File \u001B[0;32m~/Documents/Projects/MLProject/exclusiveAI/components/NeuralNetwork.py:130\u001B[0m, in \u001B[0;36m<dictcomp>\u001B[0;34m(.0)\u001B[0m\n\u001B[1;32m    125\u001B[0m \u001B[38;5;28;01mdef\u001B[39;00m \u001B[38;5;21mget_last\u001B[39m(\u001B[38;5;28mself\u001B[39m):\n\u001B[1;32m    126\u001B[0m \u001B[38;5;250m    \u001B[39m\u001B[38;5;124;03m\"\"\"\u001B[39;00m\n\u001B[1;32m    127\u001B[0m \u001B[38;5;124;03m    Get the last element of the history.\u001B[39;00m\n\u001B[1;32m    128\u001B[0m \u001B[38;5;124;03m    Returns: the last element of the history.\u001B[39;00m\n\u001B[1;32m    129\u001B[0m \u001B[38;5;124;03m    \"\"\"\u001B[39;00m\n\u001B[0;32m--> 130\u001B[0m     \u001B[38;5;28;01mreturn\u001B[39;00m {name: \u001B[38;5;28mself\u001B[39m\u001B[38;5;241m.\u001B[39mhistory[name][\u001B[38;5;241m-\u001B[39m\u001B[38;5;241m1\u001B[39m] \u001B[38;5;28;01mfor\u001B[39;00m name \u001B[38;5;129;01min\u001B[39;00m \u001B[38;5;28mself\u001B[39m\u001B[38;5;241m.\u001B[39mhistory}\n",
      "\u001B[0;31mKeyboardInterrupt\u001B[0m: "
     ]
    }
   ],
   "source": [
    "batch_size=32\n",
    "epochs=200\n",
    "\n",
    "myValidation = HoldOut(models=myConfigurator, input=training_data, target=training_labels, debug=True)\n",
    "configs = myValidation.hold_out(all_models=True, batch_size=batch_size, epochs=epochs, disable_line=False)"
   ],
   "metadata": {
    "collapsed": false,
    "ExecuteTime": {
     "end_time": "2023-12-13T17:44:01.202897Z",
     "start_time": "2023-12-13T17:43:41.243654Z"
    }
   },
   "id": "3e55953fb605152c"
  },
  {
   "cell_type": "code",
   "execution_count": null,
   "outputs": [],
   "source": [
    "configs = pd.DataFrame(configs)\n",
    "# Save as json\n",
    "configs.to_json('monk1_models_configurations.json')"
   ],
   "metadata": {
    "collapsed": false,
    "ExecuteTime": {
     "start_time": "2023-12-13T17:44:01.202319Z"
    }
   },
   "id": "bfc6ad0e288d996a"
  }
 ],
 "metadata": {
  "kernelspec": {
   "display_name": "Python 3",
   "language": "python",
   "name": "python3"
  },
  "language_info": {
   "codemirror_mode": {
    "name": "ipython",
    "version": 2
   },
   "file_extension": ".py",
   "mimetype": "text/x-python",
   "name": "python",
   "nbconvert_exporter": "python",
   "pygments_lexer": "ipython2",
   "version": "2.7.6"
  }
 },
 "nbformat": 4,
 "nbformat_minor": 5
}
