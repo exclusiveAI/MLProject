{
 "cells": [
  {
   "cell_type": "markdown",
   "source": [
    "# Monk1 \n",
    "Grid Search for Monk1 dataset model selection\n"
   ],
   "metadata": {
    "collapsed": false
   },
   "id": "76221a5d468b33a8"
  },
  {
   "cell_type": "code",
   "execution_count": 1,
   "outputs": [],
   "source": [
    "from exclusiveAI.ConfiguratorGen import ConfiguratorGen\n",
    "from exclusiveAI.datasets.monk import read_monk1\n",
    "from exclusiveAI.components.Validation import *\n",
    "from exclusiveAI.utils import one_hot_encoding\n",
    "from exclusiveAI.components.CallBacks import *\n",
    "from exclusiveAI.Composer import Composer\n",
    "import pandas as pd\n",
    "import numpy as np"
   ],
   "metadata": {
    "collapsed": false,
    "ExecuteTime": {
     "end_time": "2023-12-13T14:07:36.562537Z",
     "start_time": "2023-12-13T14:07:35.934201Z"
    }
   },
   "id": "d8f565beeebe055d"
  },
  {
   "cell_type": "markdown",
   "source": [
    "#### Read Monk1 dataset "
   ],
   "metadata": {
    "collapsed": false
   },
   "id": "41c193fe85cb2214"
  },
  {
   "cell_type": "code",
   "execution_count": 2,
   "outputs": [],
   "source": [
    "training_data, training_labels, test_data, test_labels = read_monk1()"
   ],
   "metadata": {
    "collapsed": false,
    "ExecuteTime": {
     "end_time": "2023-12-13T14:07:36.568759Z",
     "start_time": "2023-12-13T14:07:36.563483Z"
    }
   },
   "id": "c2efbf06487c3d0f"
  },
  {
   "cell_type": "markdown",
   "source": [
    "One-Hot Encoding Training Dataset"
   ],
   "metadata": {
    "collapsed": false
   },
   "id": "6c2a7c15dc5f0bf3"
  },
  {
   "cell_type": "code",
   "execution_count": 3,
   "outputs": [],
   "source": [
    "training_data = one_hot_encoding(training_data)"
   ],
   "metadata": {
    "collapsed": false,
    "ExecuteTime": {
     "end_time": "2023-12-13T14:07:36.571771Z",
     "start_time": "2023-12-13T14:07:36.568731Z"
    }
   },
   "id": "b54f54f940a1597f"
  },
  {
   "cell_type": "markdown",
   "source": [
    "One-Hot Encoding Test Dataset"
   ],
   "metadata": {
    "collapsed": false
   },
   "id": "2fe910ec3314ef77"
  },
  {
   "cell_type": "code",
   "execution_count": 4,
   "outputs": [],
   "source": [
    "test_data = one_hot_encoding(test_data)"
   ],
   "metadata": {
    "collapsed": false,
    "ExecuteTime": {
     "end_time": "2023-12-13T14:07:36.574584Z",
     "start_time": "2023-12-13T14:07:36.571725Z"
    }
   },
   "id": "7d7ff08be1ee7aa5"
  },
  {
   "cell_type": "markdown",
   "source": [
    "Early Stopping Callback with 50 epochs patience limit"
   ],
   "metadata": {
    "collapsed": false
   },
   "id": "a34abcc463d25a2e"
  },
  {
   "cell_type": "code",
   "execution_count": 5,
   "outputs": [],
   "source": [
    "patience_limit = 10\n",
    "early_stopping = EarlyStoppingCallback(patience_limit=patience_limit, eps=1e-3)"
   ],
   "metadata": {
    "collapsed": false,
    "ExecuteTime": {
     "end_time": "2023-12-13T14:07:36.577737Z",
     "start_time": "2023-12-13T14:07:36.574895Z"
    }
   },
   "id": "60346e93f3af4818"
  },
  {
   "cell_type": "markdown",
   "source": [
    "Configuration Generator Grid Search for better hyperparameters selection"
   ],
   "metadata": {
    "collapsed": false
   },
   "id": "35fe3b0cb99b46a"
  },
  {
   "cell_type": "code",
   "execution_count": null,
   "outputs": [
    {
     "name": "stderr",
     "output_type": "stream",
     "text": [
      "1st for: 100%|\u001B[37m██████████\u001B[0m| 3916080/3916080 [00:01<00:00, 3700272.86it/s]\n",
      "2nd for:  96%|\u001B[37m█████████▌\u001B[0m| 3759477/3916080 [04:40<00:03, 45665.20it/s]"
     ]
    }
   ],
   "source": [
    "regularizations = np.arange(0, 0.001, 0.0001)\n",
    "learning_rates = np.arange(0.01, 0.5, 0.01)\n",
    "number_of_units = range(1, 5, 1)\n",
    "number_of_layers = range(1, 3, 1) \n",
    "initializers = [\"uniform\", \"gaussian\"]\n",
    "momentums = np.arange(0, 0.999, 0.001)\n",
    "activations = [\"sigmoid\"]\n",
    "\n",
    "myConfigurator = ConfiguratorGen(random=False, regularizations=regularizations, learning_rates=learning_rates,\n",
    "                                 loss_function=['mse'], optimizer=['sgd'],\n",
    "                                 activation_functions=activations, nesterov=True,\n",
    "                                 number_of_units=number_of_units, number_of_layers=number_of_layers,\n",
    "                                 momentums=momentums, initializers=initializers, input_shapes=training_data.shape, verbose=False,\n",
    "                                 callbacks=[early_stopping], output_activation='sigmoid'\n",
    "                                 )"
   ],
   "metadata": {
    "collapsed": false,
    "is_executing": true,
    "ExecuteTime": {
     "start_time": "2023-12-13T14:07:36.810465Z"
    }
   },
   "id": "a9aef1ab1b752912"
  },
  {
   "cell_type": "markdown",
   "source": [
    "HoldOut validation with our configurations"
   ],
   "metadata": {
    "collapsed": false
   },
   "id": "f5e85155e7b8a7e6"
  },
  {
   "cell_type": "code",
   "execution_count": null,
   "outputs": [],
   "source": [
    "batch_size=32\n",
    "epochs=200\n",
    "\n",
    "myValidation = HoldOut(models=myConfigurator, input=training_data, target=training_labels, debug=True)\n",
    "configs = myValidation.hold_out(all_models=True, batch_size=batch_size, epochs=epochs)"
   ],
   "metadata": {
    "collapsed": false,
    "is_executing": true
   },
   "id": "3e55953fb605152c"
  },
  {
   "cell_type": "code",
   "execution_count": null,
   "outputs": [],
   "source": [
    "configs = pd.DataFrame(configs)\n",
    "# Save as json\n",
    "configs.to_json('monk1_configurations.json')"
   ],
   "metadata": {
    "collapsed": false,
    "is_executing": true
   },
   "id": "bfc6ad0e288d996a"
  }
 ],
 "metadata": {
  "kernelspec": {
   "display_name": "Python 3",
   "language": "python",
   "name": "python3"
  },
  "language_info": {
   "codemirror_mode": {
    "name": "ipython",
    "version": 2
   },
   "file_extension": ".py",
   "mimetype": "text/x-python",
   "name": "python",
   "nbconvert_exporter": "python",
   "pygments_lexer": "ipython2",
   "version": "2.7.6"
  }
 },
 "nbformat": 4,
 "nbformat_minor": 5
}
