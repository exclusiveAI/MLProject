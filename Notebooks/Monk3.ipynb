{
 "cells": [
  {
   "cell_type": "markdown",
   "source": [
    "# Monk3\n",
    "Grid Search for Monk1 dataset model selection\n"
   ],
   "metadata": {
    "collapsed": false
   },
   "id": "76221a5d468b33a8"
  },
  {
   "cell_type": "code",
   "execution_count": null,
   "outputs": [],
   "source": [
    "from exclusiveAI.ConfiguratorGen import ConfiguratorGen\n",
    "from exclusiveAI.datasets.monk import read_monk3\n",
    "from exclusiveAI.utils import one_hot_encoding\n",
    "from exclusiveAI.components.Validation.HoldOut import parallel_hold_out, hold_out\n",
    "import pandas as pd\n",
    "import numpy as np"
   ],
   "metadata": {
    "collapsed": false
   },
   "id": "d8f565beeebe055d"
  },
  {
   "cell_type": "markdown",
   "source": [
    "#### Read Monk3 dataset "
   ],
   "metadata": {
    "collapsed": false
   },
   "id": "41c193fe85cb2214"
  },
  {
   "cell_type": "code",
   "execution_count": null,
   "outputs": [],
   "source": [
    "training_data, training_labels, test_data, test_labels = read_monk3(\"../exclusiveAI/datasets/\")"
   ],
   "metadata": {
    "collapsed": false
   },
   "id": "c2efbf06487c3d0f"
  },
  {
   "cell_type": "markdown",
   "source": [
    "One-Hot Encoding Training Dataset"
   ],
   "metadata": {
    "collapsed": false
   },
   "id": "6c2a7c15dc5f0bf3"
  },
  {
   "cell_type": "code",
   "execution_count": null,
   "outputs": [],
   "source": [
    "training_data = one_hot_encoding(training_data)"
   ],
   "metadata": {
    "collapsed": false
   },
   "id": "b54f54f940a1597f"
  },
  {
   "cell_type": "markdown",
   "source": [
    "One-Hot Encoding Test Dataset"
   ],
   "metadata": {
    "collapsed": false
   },
   "id": "2fe910ec3314ef77"
  },
  {
   "cell_type": "code",
   "execution_count": null,
   "outputs": [],
   "source": [
    "test_data = one_hot_encoding(test_data)"
   ],
   "metadata": {
    "collapsed": false
   },
   "id": "7d7ff08be1ee7aa5"
  },
  {
   "cell_type": "markdown",
   "source": [
    "Configuration Generator Grid Search for better hyperparameters selection"
   ],
   "metadata": {
    "collapsed": false
   },
   "id": "35fe3b0cb99b46a"
  },
  {
   "cell_type": "code",
   "execution_count": null,
   "outputs": [],
   "source": [
    "regularizations = np.arange(0, 0.001, 0.0001)\n",
    "learning_rates = np.arange(0.01, 0.5, 0.01)\n",
    "number_of_units = range(1, 4, 1)\n",
    "number_of_layers = range(1, 2, 1) \n",
    "initializers = [\"uniform\", \"gaussian\"]\n",
    "momentums = np.arange(0, 0.999, 0.001)\n",
    "activations = [\"sigmoid\"]\n",
    "\n",
    "myConfigurator = ConfiguratorGen(random=False, learning_rates=learning_rates, regularizations=regularizations,\n",
    "                             loss_function=['mse'], optimizer=['sgd'],\n",
    "                             activation_functions=activations,\n",
    "                             number_of_units=number_of_units, number_of_layers=number_of_layers,\n",
    "                             momentums=momentums, initializers=initializers,\n",
    "                             input_shapes=training_data.shape,\n",
    "                             verbose=False, nesterov=True, number_of_initializations=1,\n",
    "                             callbacks=[\"earlystopping\"], output_activation='sigmoid'\n",
    "                             ).get_configs()"
   ],
   "metadata": {
    "collapsed": false
   },
   "id": "a9aef1ab1b752912"
  },
  {
   "cell_type": "markdown",
   "source": [
    "HoldOut validation with our configurations"
   ],
   "metadata": {
    "collapsed": false
   },
   "id": "f5e85155e7b8a7e6"
  },
  {
   "cell_type": "code",
   "execution_count": null,
   "outputs": [],
   "source": [
    "batch_size=32\n",
    "epochs=200\n",
    "configs=[]\n",
    "if __name__ == '__main__':\n",
    "    configs = parallel_hold_out(configs=myConfigurator, training=training_data, training_target=training_labels, epochs=epochs, batch_size=batch_size, all_models=True, num_models=500)"
   ],
   "metadata": {
    "collapsed": false
   },
   "id": "3e55953fb605152c"
  },
  {
   "cell_type": "code",
   "execution_count": null,
   "outputs": [],
   "source": [
    "configs = pd.DataFrame(configs)\n",
    "# Save as json\n",
    "configs.to_json('monk3_configurations.json')"
   ],
   "metadata": {
    "collapsed": false
   },
   "id": "bfc6ad0e288d996a"
  }
 ],
 "metadata": {
  "kernelspec": {
   "display_name": "Python 3",
   "language": "python",
   "name": "python3"
  },
  "language_info": {
   "codemirror_mode": {
    "name": "ipython",
    "version": 2
   },
   "file_extension": ".py",
   "mimetype": "text/x-python",
   "name": "python",
   "nbconvert_exporter": "python",
   "pygments_lexer": "ipython2",
   "version": "2.7.6"
  }
 },
 "nbformat": 4,
 "nbformat_minor": 5
}
