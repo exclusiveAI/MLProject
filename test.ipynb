{
 "cells": [
  {
   "cell_type": "code",
   "execution_count": 81,
   "metadata": {},
   "outputs": [
    {
     "name": "stdout",
     "output_type": "stream",
     "text": [
      "[[0.04990866 0.04306795 0.00421157 0.00220168]\n",
      " [0.0199001  0.04495613 0.02387814 0.02801051]\n",
      " [0.00943388 0.03722873 0.03108962 0.03729112]]\n"
     ]
    }
   ],
   "source": [
    "from exclusiveAI.components.Initializers.Uniform import Uniform\n",
    "import numpy as np\n",
    "\n",
    "\n",
    "initializer = Uniform(low=0, high=0.05)\n",
    "shape = (3, 4)\n",
    "weights = np.array(initializer.initialize(shape=shape)).astype(np.float32)\n",
    "\n",
    "\n",
    "print(weights)"
   ]
  },
  {
   "cell_type": "code",
   "execution_count": null,
   "metadata": {},
   "outputs": [],
   "source": []
  }
 ],
 "metadata": {
  "kernelspec": {
   "display_name": "exclusiveAIvenv",
   "language": "python",
   "name": "python3"
  },
  "language_info": {
   "codemirror_mode": {
    "name": "ipython",
    "version": 3
   },
   "file_extension": ".py",
   "mimetype": "text/x-python",
   "name": "python",
   "nbconvert_exporter": "python",
   "pygments_lexer": "ipython3",
   "version": "3.10.13"
  }
 },
 "nbformat": 4,
 "nbformat_minor": 2
}
