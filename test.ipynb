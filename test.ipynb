{
 "cells": [
  {
   "cell_type": "code",
   "execution_count": 270,
   "metadata": {
    "ExecuteTime": {
     "end_time": "2023-11-22T11:05:12.354615Z",
     "start_time": "2023-11-22T11:05:11.359591Z"
    }
   },
   "outputs": [
    {
     "name": "stdout",
     "output_type": "stream",
     "text": [
      "4.9299860000610354e-05\n",
      "4.9318242073059085e-05\n"
     ]
    }
   ],
   "source": [
    "from exclusiveAI.components.Initializers.Uniform import Uniform\n",
    "import numpy as np\n",
    "import  time\n",
    "\n",
    "\n",
    "x = np.random.random(100000).reshape(-1, 1)\n",
    "weights = np.random.normal(0, 0.05, (1, 100000))\n",
    "\n",
    "times1 = []\n",
    "times2 = []\n",
    "\n",
    "for i in range(0, 10000):\n",
    "    start_time = time.time()\n",
    "    value = weights @ x\n",
    "    end_time = time.time()\n",
    "    times1.append(end_time - start_time)\n",
    "\n",
    "    start_time = time.time()\n",
    "    value2 = np.matmul(weights, x)\n",
    "    end_time = time.time()\n",
    "    times2.append(end_time - start_time)\n",
    "\n",
    "print(np.mean(times1))\n",
    "print(np.mean(times2))"
   ]
  },
  {
   "cell_type": "code",
   "execution_count": 144,
   "metadata": {
    "ExecuteTime": {
     "end_time": "2023-11-22T10:57:42.804511Z",
     "start_time": "2023-11-22T10:57:42.785309Z"
    }
   },
   "outputs": [
    {
     "data": {
      "text/plain": "array([[0.03411374],\n       [0.05866459],\n       [0.0466138 ]])"
     },
     "execution_count": 144,
     "metadata": {},
     "output_type": "execute_result"
    }
   ],
   "source": [
    "weights"
   ]
  }
 ],
 "metadata": {
  "kernelspec": {
   "display_name": "exclusiveAIvenv",
   "language": "python",
   "name": "python3"
  },
  "language_info": {
   "codemirror_mode": {
    "name": "ipython",
    "version": 3
   },
   "file_extension": ".py",
   "mimetype": "text/x-python",
   "name": "python",
   "nbconvert_exporter": "python",
   "pygments_lexer": "ipython3",
   "version": "3.10.13"
  }
 },
 "nbformat": 4,
 "nbformat_minor": 2
}
