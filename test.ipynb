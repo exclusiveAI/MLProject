{
 "cells": [
  {
   "cell_type": "code",
   "execution_count": 41,
   "metadata": {},
   "outputs": [
    {
     "name": "stdout",
     "output_type": "stream",
     "text": [
      "1.1911535263061523e-05 8.964991569519043e-06\n"
     ]
    }
   ],
   "source": [
    "import numpy as np\n",
    "import time\n",
    "times1 = []\n",
    "times2 = []\n",
    "\n",
    "layers = range(0, 3)\n",
    "weights = np.array([[1,2,3],\n",
    "           [4,5,6],\n",
    "           [7,8,9]], dtype=float)\n",
    "deltas = np.array([0.1, 0.2, 0.3])\n",
    "old_dw = np.array([0, 0, 0])\n",
    "learning_rate = 0.01\n",
    "momentum = 0.01\n",
    "regularization = 0.01\n",
    "\n",
    "for i in range(0, 10000):\n",
    "    start_time = time.time()\n",
    "    new_deltas = []\n",
    "    for layer, delta, old_delta in zip(layers, deltas, old_dw):\n",
    "                new_delta = learning_rate * delta + momentum * old_delta\n",
    "                new_deltas.append(new_delta)\n",
    "                weights[layer] = weights[layer] + new_delta - weights[layer] * regularization * 2\n",
    "    end_time = time.time()\n",
    "    times1.append(end_time - start_time)\n",
    "\n",
    "layers = range(0, 3)\n",
    "weights = np.array([[1,2,3],\n",
    "           [4,5,6],\n",
    "           [7,8,9]], dtype=float)\n",
    "deltas = np.array([0.1, 0.2, 0.3])\n",
    "old_dw = np.array([0, 0, 0])\n",
    "learning_rate = 0.01\n",
    "momentum = 0.01\n",
    "regularization = 0.01\n",
    "    \n",
    "for i in range(0, 10000):\n",
    "    start_time = time.time()\n",
    "    new_deltas = learning_rate * deltas + momentum * old_dw\n",
    "    for layer, new_delta in zip(layers, new_deltas):\n",
    "        weights[layer] = weights[layer] + new_delta - weights[layer] * regularization * 2\n",
    "    end_time = time.time()\n",
    "    times2.append(end_time - start_time)\n",
    "\n",
    "print(np.mean(times1), np.mean(times2))            "
   ]
  },
  {
   "cell_type": "code",
   "execution_count": null,
   "metadata": {},
   "outputs": [],
   "source": []
  }
 ],
 "metadata": {
  "kernelspec": {
   "display_name": "exclusiveAIvenv",
   "language": "python",
   "name": "python3"
  },
  "language_info": {
   "codemirror_mode": {
    "name": "ipython",
    "version": 3
   },
   "file_extension": ".py",
   "mimetype": "text/x-python",
   "name": "python",
   "nbconvert_exporter": "python",
   "pygments_lexer": "ipython3",
   "version": "3.10.13"
  }
 },
 "nbformat": 4,
 "nbformat_minor": 2
}
